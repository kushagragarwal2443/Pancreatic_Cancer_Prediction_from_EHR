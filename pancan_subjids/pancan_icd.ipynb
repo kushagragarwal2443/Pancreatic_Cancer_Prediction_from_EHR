{
 "cells": [
  {
   "cell_type": "code",
   "execution_count": 2,
   "id": "de5246c0",
   "metadata": {},
   "outputs": [],
   "source": [
    "import pandas as pd\n",
    "import numpy as np\n",
    "import random"
   ]
  },
  {
   "cell_type": "markdown",
   "id": "452e52c8",
   "metadata": {},
   "source": [
    "### Pancreatic Cancer codes"
   ]
  },
  {
   "cell_type": "code",
   "execution_count": 4,
   "id": "c4832f66",
   "metadata": {},
   "outputs": [
    {
     "data": {
      "text/html": [
       "<div>\n",
       "<style scoped>\n",
       "    .dataframe tbody tr th:only-of-type {\n",
       "        vertical-align: middle;\n",
       "    }\n",
       "\n",
       "    .dataframe tbody tr th {\n",
       "        vertical-align: top;\n",
       "    }\n",
       "\n",
       "    .dataframe thead th {\n",
       "        text-align: right;\n",
       "    }\n",
       "</style>\n",
       "<table border=\"1\" class=\"dataframe\">\n",
       "  <thead>\n",
       "    <tr style=\"text-align: right;\">\n",
       "      <th></th>\n",
       "      <th>icd_code</th>\n",
       "      <th>icd_version</th>\n",
       "      <th>long_title</th>\n",
       "    </tr>\n",
       "  </thead>\n",
       "  <tbody>\n",
       "    <tr>\n",
       "      <th>0</th>\n",
       "      <td>10</td>\n",
       "      <td>9</td>\n",
       "      <td>Cholera due to vibrio cholerae</td>\n",
       "    </tr>\n",
       "    <tr>\n",
       "      <th>1</th>\n",
       "      <td>11</td>\n",
       "      <td>9</td>\n",
       "      <td>Cholera due to vibrio cholerae el tor</td>\n",
       "    </tr>\n",
       "    <tr>\n",
       "      <th>2</th>\n",
       "      <td>19</td>\n",
       "      <td>9</td>\n",
       "      <td>Cholera, unspecified</td>\n",
       "    </tr>\n",
       "    <tr>\n",
       "      <th>3</th>\n",
       "      <td>20</td>\n",
       "      <td>9</td>\n",
       "      <td>Typhoid fever</td>\n",
       "    </tr>\n",
       "    <tr>\n",
       "      <th>4</th>\n",
       "      <td>21</td>\n",
       "      <td>9</td>\n",
       "      <td>Paratyphoid fever A</td>\n",
       "    </tr>\n",
       "  </tbody>\n",
       "</table>\n",
       "</div>"
      ],
      "text/plain": [
       "  icd_code  icd_version                             long_title\n",
       "0       10            9         Cholera due to vibrio cholerae\n",
       "1       11            9  Cholera due to vibrio cholerae el tor\n",
       "2       19            9                   Cholera, unspecified\n",
       "3       20            9                          Typhoid fever\n",
       "4       21            9                    Paratyphoid fever A"
      ]
     },
     "execution_count": 4,
     "metadata": {},
     "output_type": "execute_result"
    }
   ],
   "source": [
    "df = pd.read_csv(\"../data/raw/d_icd_diagnoses.csv\")\n",
    "df.head()"
   ]
  },
  {
   "cell_type": "code",
   "execution_count": 10,
   "id": "81fc11c1",
   "metadata": {},
   "outputs": [
    {
     "name": "stdout",
     "output_type": "stream",
     "text": [
      "1570 9 Malignant neoplasm of head of pancreas\n",
      "1571 9 Malignant neoplasm of body of pancreas\n",
      "1572 9 Malignant neoplasm of tail of pancreas\n",
      "1573 9 Malignant neoplasm of pancreatic duct\n",
      "1578 9 Malignant neoplasm of other specified sites of pancreas\n",
      "1579 9 Malignant neoplasm of pancreas, part unspecified\n",
      "C25 10 Malignant neoplasm of pancreas\n",
      "C250 10 Malignant neoplasm of head of pancreas\n",
      "C251 10 Malignant neoplasm of body of pancreas\n",
      "C252 10 Malignant neoplasm of tail of pancreas\n",
      "C253 10 Malignant neoplasm of pancreatic duct\n",
      "C254 10 Malignant neoplasm of endocrine pancreas\n",
      "C257 10 Malignant neoplasm of other parts of pancreas\n",
      "C258 10 Malignant neoplasm of overlapping sites of pancreas\n",
      "C259 10 Malignant neoplasm of pancreas, unspecified\n",
      "\n",
      "['1570', '1571', '1572', '1573', '1578', '1579']\n",
      "['C25', 'C250', 'C251', 'C252', 'C253', 'C254', 'C257', 'C258', 'C259']\n"
     ]
    }
   ],
   "source": [
    "icd9_codes = []\n",
    "icd10_codes = []\n",
    "for i in range(len(df)):\n",
    "    title = df[\"long_title\"][i]\n",
    "    if((\"pancreas\" in title or \"pancreati\" in title) and \"Malignant neoplasm\" in title):\n",
    "        if(df[\"icd_version\"][i]==9):\n",
    "            icd9_codes.append(df[\"icd_code\"][i])\n",
    "        else:\n",
    "            icd10_codes.append(df[\"icd_code\"][i])\n",
    "        print(df[\"icd_code\"][i], df[\"icd_version\"][i], df[\"long_title\"][i])\n",
    "print()\n",
    "print(icd9_codes)\n",
    "print(icd10_codes)"
   ]
  },
  {
   "cell_type": "markdown",
   "id": "e9511ce1",
   "metadata": {},
   "source": [
    "### Finding number of patients with Pancreatic Cancer"
   ]
  },
  {
   "cell_type": "code",
   "execution_count": 11,
   "id": "70dd25db",
   "metadata": {},
   "outputs": [
    {
     "data": {
      "text/html": [
       "<div>\n",
       "<style scoped>\n",
       "    .dataframe tbody tr th:only-of-type {\n",
       "        vertical-align: middle;\n",
       "    }\n",
       "\n",
       "    .dataframe tbody tr th {\n",
       "        vertical-align: top;\n",
       "    }\n",
       "\n",
       "    .dataframe thead th {\n",
       "        text-align: right;\n",
       "    }\n",
       "</style>\n",
       "<table border=\"1\" class=\"dataframe\">\n",
       "  <thead>\n",
       "    <tr style=\"text-align: right;\">\n",
       "      <th></th>\n",
       "      <th>subject_id</th>\n",
       "      <th>hadm_id</th>\n",
       "      <th>seq_num</th>\n",
       "      <th>icd_code</th>\n",
       "      <th>icd_version</th>\n",
       "    </tr>\n",
       "  </thead>\n",
       "  <tbody>\n",
       "    <tr>\n",
       "      <th>0</th>\n",
       "      <td>10000032</td>\n",
       "      <td>22595853</td>\n",
       "      <td>1</td>\n",
       "      <td>5723</td>\n",
       "      <td>9</td>\n",
       "    </tr>\n",
       "    <tr>\n",
       "      <th>1</th>\n",
       "      <td>10000032</td>\n",
       "      <td>22595853</td>\n",
       "      <td>2</td>\n",
       "      <td>78959</td>\n",
       "      <td>9</td>\n",
       "    </tr>\n",
       "    <tr>\n",
       "      <th>2</th>\n",
       "      <td>10000032</td>\n",
       "      <td>22595853</td>\n",
       "      <td>3</td>\n",
       "      <td>5715</td>\n",
       "      <td>9</td>\n",
       "    </tr>\n",
       "    <tr>\n",
       "      <th>3</th>\n",
       "      <td>10000032</td>\n",
       "      <td>22595853</td>\n",
       "      <td>4</td>\n",
       "      <td>07070</td>\n",
       "      <td>9</td>\n",
       "    </tr>\n",
       "    <tr>\n",
       "      <th>4</th>\n",
       "      <td>10000032</td>\n",
       "      <td>22595853</td>\n",
       "      <td>5</td>\n",
       "      <td>496</td>\n",
       "      <td>9</td>\n",
       "    </tr>\n",
       "  </tbody>\n",
       "</table>\n",
       "</div>"
      ],
      "text/plain": [
       "   subject_id   hadm_id  seq_num icd_code  icd_version\n",
       "0    10000032  22595853        1     5723            9\n",
       "1    10000032  22595853        2    78959            9\n",
       "2    10000032  22595853        3     5715            9\n",
       "3    10000032  22595853        4    07070            9\n",
       "4    10000032  22595853        5      496            9"
      ]
     },
     "execution_count": 11,
     "metadata": {},
     "output_type": "execute_result"
    }
   ],
   "source": [
    "df_diag = pd.read_csv(\"../data/raw/diagnoses_icd.csv\")\n",
    "df_diag.head()"
   ]
  },
  {
   "cell_type": "code",
   "execution_count": 24,
   "id": "118be318",
   "metadata": {},
   "outputs": [
    {
     "name": "stdout",
     "output_type": "stream",
     "text": [
      "Patients with icd9 PanCan: 835\n",
      "Patients with icd10 PanCan: 709\n"
     ]
    }
   ],
   "source": [
    "patients_icd9 = []\n",
    "patients_icd10 = []\n",
    "\n",
    "for i in range(len(df_diag)):\n",
    "    icd_version = df_diag['icd_version'][i]\n",
    "    icd_code = df_diag['icd_code'][i]\n",
    "    subj_id = df_diag['subject_id'][i]\n",
    "    \n",
    "    if(icd_code in icd9_codes and icd_version == 9):\n",
    "        patients_icd9.append(subj_id)\n",
    "    elif(icd_code in icd10_codes and icd_version == 10):\n",
    "        patients_icd10.append(subj_id)\n",
    "        \n",
    "patients_icd9 = list(set(patients_icd9))\n",
    "patients_icd10 = list(set(patients_icd10))\n",
    "\n",
    "print(\"Patients with icd9 PanCan:\", len(patients_icd9))\n",
    "print(\"Patients with icd10 PanCan:\", len(patients_icd10))"
   ]
  },
  {
   "cell_type": "markdown",
   "id": "22b976eb",
   "metadata": {},
   "source": [
    "### Checking Overlap between ICD9 and ICD10"
   ]
  },
  {
   "cell_type": "code",
   "execution_count": 25,
   "id": "4d148a95",
   "metadata": {},
   "outputs": [
    {
     "name": "stdout",
     "output_type": "stream",
     "text": [
      "75\n"
     ]
    }
   ],
   "source": [
    "print(len(list(set(patients_icd9) & set(patients_icd10))))"
   ]
  },
  {
   "cell_type": "markdown",
   "id": "1d1e8cb7",
   "metadata": {},
   "source": [
    "### Create subset of data"
   ]
  },
  {
   "cell_type": "code",
   "execution_count": 28,
   "id": "5374d5a8",
   "metadata": {},
   "outputs": [
    {
     "name": "stdout",
     "output_type": "stream",
     "text": [
      "Yes PanCan: 1469\n",
      "No PanCan: 1728\n",
      "Total: 180640\n"
     ]
    }
   ],
   "source": [
    "all_subj_ids = list(set(list(df_diag['subject_id'])))\n",
    "pancan_subj = []\n",
    "safe_subj = []\n",
    "\n",
    "for subj_id in all_subj_ids:\n",
    "    if(subj_id in patients_icd9 or subj_id in patients_icd10):\n",
    "        pancan_subj.append(subj_id)\n",
    "    else:\n",
    "        random_number = random.randint(1, 100)\n",
    "        if(random_number==1):\n",
    "            safe_subj.append(subj_id)\n",
    "\n",
    "print(\"Yes PanCan:\", len(pancan_subj))\n",
    "print(\"No PanCan:\", len(safe_subj))\n",
    "print(\"Total:\", len(all_subj_ids))"
   ]
  },
  {
   "cell_type": "code",
   "execution_count": 29,
   "id": "2d07c8e3",
   "metadata": {},
   "outputs": [],
   "source": [
    "pancan_subj_array = np.array(pancan_subj)\n",
    "np.save('pancan_subj.npy', pancan_subj_array)\n",
    "\n",
    "safe_subj_array = np.array(safe_subj)\n",
    "np.save('safe_subj.npy', safe_subj_array)"
   ]
  }
 ],
 "metadata": {
  "kernelspec": {
   "display_name": "Python 3 (ipykernel)",
   "language": "python",
   "name": "python3"
  },
  "language_info": {
   "codemirror_mode": {
    "name": "ipython",
    "version": 3
   },
   "file_extension": ".py",
   "mimetype": "text/x-python",
   "name": "python",
   "nbconvert_exporter": "python",
   "pygments_lexer": "ipython3",
   "version": "3.11.4"
  }
 },
 "nbformat": 4,
 "nbformat_minor": 5
}
